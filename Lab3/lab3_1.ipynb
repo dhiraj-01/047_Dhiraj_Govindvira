{
  "nbformat": 4,
  "nbformat_minor": 0,
  "metadata": {
    "colab": {
      "name": "lab3_1.ipynb",
      "provenance": [],
      "collapsed_sections": []
    },
    "kernelspec": {
      "name": "python3",
      "display_name": "Python 3"
    },
    "language_info": {
      "name": "python"
    }
  },
  "cells": [
    {
      "cell_type": "markdown",
      "metadata": {
        "id": "bkKt7J00Z7W8"
      },
      "source": [
        "Step 1: Import necessary libraries."
      ]
    },
    {
      "cell_type": "code",
      "metadata": {
        "id": "9ky1rrtBZRUM"
      },
      "source": [
        "#importing libraries\n",
        "import numpy as np \n",
        "import pandas as pd\n",
        "from sklearn import preprocessing\n",
        "from sklearn.naive_bayes import GaussianNB, MultinomialNB"
      ],
      "execution_count": 1,
      "outputs": []
    },
    {
      "cell_type": "markdown",
      "metadata": {
        "id": "3zVtHVp_Z_6F"
      },
      "source": [
        "Step 2: Prepare dataset."
      ]
    },
    {
      "cell_type": "code",
      "metadata": {
        "colab": {
          "base_uri": "https://localhost:8080/"
        },
        "id": "6LuNUGN7ZqXW",
        "outputId": "452c293c-7e62-4a5e-b4f6-db24174e39aa"
      },
      "source": [
        "dataset = pd.read_csv('dataset.csv')\n",
        "print(\"Data :- \\n\",dataset)\n",
        "print(\"Data Statistics :- \\n\",dataset.describe())"
      ],
      "execution_count": 2,
      "outputs": [
        {
          "output_type": "stream",
          "name": "stdout",
          "text": [
            "Data :- \n",
            "    Outlook Temp Humidity Wind Play\n",
            "0        R    H   Normal    F    N\n",
            "1        R    H     High    T    N\n",
            "2        O    H   Normal    F    Y\n",
            "3        S    M   Normal    F    Y\n",
            "4        S    C   Normal    F    Y\n",
            "5        S    C      Low    T    N\n",
            "6        O    C   Normal    T    Y\n",
            "7        R    M   Normal    F    N\n",
            "8        R    C      Low    F    Y\n",
            "9        S    M     High    F    Y\n",
            "10       R    M     High    T    Y\n",
            "11       O    M      Low    T    Y\n",
            "12       O    H   Normal    F    Y\n",
            "13       S    M   Normal    T    N\n",
            "Data Statistics :- \n",
            "        Outlook Temp Humidity Wind Play\n",
            "count       14   14       14   14   14\n",
            "unique       3    3        3    2    2\n",
            "top          S    M   Normal    F    Y\n",
            "freq         5    6        8    8    9\n"
          ]
        }
      ]
    },
    {
      "cell_type": "markdown",
      "metadata": {
        "id": "OklSHFuhaCzM"
      },
      "source": [
        "Step 3: Digitize the data set using encoding"
      ]
    },
    {
      "cell_type": "code",
      "metadata": {
        "id": "STozm5tnaE9a",
        "colab": {
          "base_uri": "https://localhost:8080/"
        },
        "outputId": "c582f705-2a16-4032-da06-dcd56ea4a790"
      },
      "source": [
        "#creating labelEncoder\n",
        "le = preprocessing.LabelEncoder()\n",
        "\n",
        "# Converting string labels into numbers.\n",
        "outlook_encoded=le.fit_transform(dataset['Outlook'])\n",
        "print(\"Outlook:\" ,outlook_encoded)\n",
        "temp_encoded=le.fit_transform(dataset['Temp'])\n",
        "print(\"Temp:\" ,temp_encoded)\n",
        "humidity_encoded=le.fit_transform(dataset['Humidity'])\n",
        "print(\"Humidity:\" ,humidity_encoded)\n",
        "wind_encoded=le.fit_transform(dataset['Wind'])\n",
        "print(\"Wind:\" ,wind_encoded)\n",
        "play_encoded=le.fit_transform(dataset['Play'])\n",
        "print(\"Play:\" ,play_encoded)\n",
        "\n",
        "\n"
      ],
      "execution_count": 3,
      "outputs": [
        {
          "output_type": "stream",
          "name": "stdout",
          "text": [
            "Outlook: [1 1 0 2 2 2 0 1 1 2 1 0 0 2]\n",
            "Temp: [1 1 1 2 0 0 0 2 0 2 2 2 1 2]\n",
            "Humidity: [2 0 2 2 2 1 2 2 1 0 0 1 2 2]\n",
            "Wind: [0 1 0 0 0 1 1 0 0 0 1 1 0 1]\n",
            "Play: [0 0 1 1 1 0 1 0 1 1 1 1 1 0]\n"
          ]
        }
      ]
    },
    {
      "cell_type": "markdown",
      "metadata": {
        "id": "48fLXOXQbAbz"
      },
      "source": [
        "Step 4: Merge different features to prepare dataset"
      ]
    },
    {
      "cell_type": "code",
      "metadata": {
        "id": "O2DSbiFxbVri",
        "colab": {
          "base_uri": "https://localhost:8080/"
        },
        "outputId": "1e50e3e4-a1c1-44d3-b91b-d63a36279a88"
      },
      "source": [
        "#Combinig Outlook,Temp,Humidity and Wind into single listof tuples\n",
        "features=tuple(zip(outlook_encoded,temp_encoded,humidity_encoded,wind_encoded))\n",
        "print(\"Features:\",features)"
      ],
      "execution_count": 4,
      "outputs": [
        {
          "output_type": "stream",
          "name": "stdout",
          "text": [
            "Features: ((1, 1, 2, 0), (1, 1, 0, 1), (0, 1, 2, 0), (2, 2, 2, 0), (2, 0, 2, 0), (2, 0, 1, 1), (0, 0, 2, 1), (1, 2, 2, 0), (1, 0, 1, 0), (2, 2, 0, 0), (1, 2, 0, 1), (0, 2, 1, 1), (0, 1, 2, 0), (2, 2, 2, 1))\n"
          ]
        }
      ]
    },
    {
      "cell_type": "markdown",
      "metadata": {
        "id": "VMOYN3wxboSS"
      },
      "source": [
        "Step 5: Train ’Naive Bayes Classifier’"
      ]
    },
    {
      "cell_type": "code",
      "metadata": {
        "id": "UR_DtRuxbruC",
        "colab": {
          "base_uri": "https://localhost:8080/"
        },
        "outputId": "12d14481-d7c2-4759-d1b7-f72222e220b0"
      },
      "source": [
        "#Create a Classifier\n",
        "model=MultinomialNB()\n",
        "# Train the model using the training sets\n",
        "model.fit(features,play_encoded)"
      ],
      "execution_count": 5,
      "outputs": [
        {
          "output_type": "execute_result",
          "data": {
            "text/plain": [
              "MultinomialNB(alpha=1.0, class_prior=None, fit_prior=True)"
            ]
          },
          "metadata": {},
          "execution_count": 5
        }
      ]
    },
    {
      "cell_type": "markdown",
      "metadata": {
        "id": "x9KUpM3Gb1EQ"
      },
      "source": [
        "Step 6: Predict Output for new data"
      ]
    },
    {
      "cell_type": "code",
      "metadata": {
        "id": "sedmajjkb2EW",
        "colab": {
          "base_uri": "https://localhost:8080/"
        },
        "outputId": "2b480ded-caf6-4fb9-cdbc-f2faa0f4db28"
      },
      "source": [
        "#Predict Output\n",
        "predicted= model.predict([[1,1,2,0]]) # 1:Overcast, 2:Mild\n",
        "print(\"Predicted Value:\", predicted)"
      ],
      "execution_count": 6,
      "outputs": [
        {
          "output_type": "stream",
          "name": "stdout",
          "text": [
            "Predicted Value: [1]\n"
          ]
        }
      ]
    },
    {
      "cell_type": "code",
      "metadata": {
        "id": "4RA_pVL2cAB8",
        "colab": {
          "base_uri": "https://localhost:8080/"
        },
        "outputId": "9f658dbf-2e25-40d1-cb25-477a9609f6ae"
      },
      "source": [
        "#Predict Output\n",
        "predicted= model.predict([[1,1,0,1]]) # 0:Overcast, 2:Mild\n",
        "print(\"Predicted Value:\", predicted)"
      ],
      "execution_count": 7,
      "outputs": [
        {
          "output_type": "stream",
          "name": "stdout",
          "text": [
            "Predicted Value: [1]\n"
          ]
        }
      ]
    },
    {
      "cell_type": "code",
      "metadata": {
        "id": "9vLExs-ZcOhT",
        "colab": {
          "base_uri": "https://localhost:8080/"
        },
        "outputId": "caa37551-2e81-4d75-8d58-cd3b6939bcc2"
      },
      "source": [
        "#Predict Output\n",
        "predicted= model.predict([[0,1,2,0]]) # 0:Overcast, 2:Mild\n",
        "print(\"Predicted Value:\", predicted)"
      ],
      "execution_count": 8,
      "outputs": [
        {
          "output_type": "stream",
          "name": "stdout",
          "text": [
            "Predicted Value: [1]\n"
          ]
        }
      ]
    }
  ]
}