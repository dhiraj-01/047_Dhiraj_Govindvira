{
  "nbformat": 4,
  "nbformat_minor": 0,
  "metadata": {
    "colab": {
      "name": "Lab1_Linear_Algebra.ipynb",
      "provenance": []
    },
    "kernelspec": {
      "name": "python3",
      "display_name": "Python 3"
    },
    "language_info": {
      "name": "python"
    }
  },
  "cells": [
    {
      "cell_type": "code",
      "metadata": {
        "id": "ZUrHUDja8Dw5"
      },
      "source": [
        "\n",
        "import numpy as np\n",
        "import pandas as pd"
      ],
      "execution_count": 1,
      "outputs": []
    },
    {
      "cell_type": "code",
      "metadata": {
        "colab": {
          "base_uri": "https://localhost:8080/"
        },
        "id": "a6-hzPyC8V0L",
        "outputId": "61463582-f315-4b64-b084-059cb69f095c"
      },
      "source": [
        "\n",
        "# two matrics\n",
        "array1 = np.array([[5, 9, 3],[3, 7, 5]])\n",
        "array2 = np.array([[3,-9],[5, 4],[7, -8]])\n",
        "print(array1)\n",
        "print(array2)"
      ],
      "execution_count": 2,
      "outputs": [
        {
          "output_type": "stream",
          "name": "stdout",
          "text": [
            "[[5 9 3]\n",
            " [3 7 5]]\n",
            "[[ 3 -9]\n",
            " [ 5  4]\n",
            " [ 7 -8]]\n"
          ]
        }
      ]
    },
    {
      "cell_type": "code",
      "metadata": {
        "colab": {
          "base_uri": "https://localhost:8080/"
        },
        "id": "AR-u4cal8Y0r",
        "outputId": "f4087b19-e208-43e8-c0f6-673ac9668fb9"
      },
      "source": [
        "#randomly initialize array\n",
        "array = np.random.rand(2, 4)\n",
        "print(array)"
      ],
      "execution_count": 3,
      "outputs": [
        {
          "output_type": "stream",
          "name": "stdout",
          "text": [
            "[[0.99390763 0.63574717 0.63207572 0.03660278]\n",
            " [0.84242713 0.09509427 0.23119812 0.26424839]]\n"
          ]
        }
      ]
    },
    {
      "cell_type": "code",
      "metadata": {
        "colab": {
          "base_uri": "https://localhost:8080/"
        },
        "id": "dUDgj48V8goP",
        "outputId": "258b7d01-b448-4653-9374-da38363009db"
      },
      "source": [
        "\n",
        "# perform matrix multiplication\n",
        "mul = np.dot(array1, array2)\n",
        "print(mul)"
      ],
      "execution_count": 4,
      "outputs": [
        {
          "output_type": "stream",
          "name": "stdout",
          "text": [
            "[[ 81 -33]\n",
            " [ 79 -39]]\n"
          ]
        }
      ]
    },
    {
      "cell_type": "code",
      "metadata": {
        "colab": {
          "base_uri": "https://localhost:8080/"
        },
        "id": "lCAPIBhJ8kQf",
        "outputId": "147a32dc-9540-455c-a175-d1c73c252b45"
      },
      "source": [
        "\n",
        "# perform element wise matrix multiplication\n",
        "res = [[0 for x in range(len(array1))] for y in range(len(array2[0]))]\n",
        "\n",
        "for i in range(len(array1)): \n",
        "  for j in range(len(array2[0])): \n",
        "    for k in range(len(array2)): \n",
        "      res[i][j] += array1[i][k] * array2[k][j]\n",
        " \n",
        "print (res)"
      ],
      "execution_count": 5,
      "outputs": [
        {
          "output_type": "stream",
          "name": "stdout",
          "text": [
            "[[81, -33], [79, -39]]\n"
          ]
        }
      ]
    },
    {
      "cell_type": "code",
      "metadata": {
        "colab": {
          "base_uri": "https://localhost:8080/"
        },
        "id": "ENO6oVnC9NSv",
        "outputId": "d2c5d1e3-bfd6-4a66-d2e9-c6a500d67a66"
      },
      "source": [
        "\n",
        "# mean of first matrix\n",
        "mean = np.mean(array1)\n",
        "print(mean)"
      ],
      "execution_count": 6,
      "outputs": [
        {
          "output_type": "stream",
          "name": "stdout",
          "text": [
            "5.333333333333333\n"
          ]
        }
      ]
    },
    {
      "cell_type": "code",
      "metadata": {
        "id": "DpMq8MQV9TZg"
      },
      "source": [
        "main_data = pd.read_csv(\"mtcars.csv\")"
      ],
      "execution_count": 7,
      "outputs": []
    },
    {
      "cell_type": "code",
      "metadata": {
        "colab": {
          "base_uri": "https://localhost:8080/"
        },
        "id": "2EPd1KRk9W32",
        "outputId": "81e9450d-d588-4a14-e6e1-0ca9a259d75a"
      },
      "source": [
        "del main_data['model']\n",
        "# meancenter\n",
        "meancenter = main_data.apply(lambda e: e - e.mean())\n",
        "print(meancenter.head())"
      ],
      "execution_count": 8,
      "outputs": [
        {
          "output_type": "stream",
          "name": "stdout",
          "text": [
            "        mpg     cyl        disp       hp  ...      vs       am    gear    carb\n",
            "0  0.909375 -0.1875  -70.721875 -36.6875  ... -0.4375  0.59375  0.3125  1.1875\n",
            "1  0.909375 -0.1875  -70.721875 -36.6875  ... -0.4375  0.59375  0.3125  1.1875\n",
            "2  2.709375 -2.1875 -122.721875 -53.6875  ...  0.5625  0.59375  0.3125 -1.8125\n",
            "3  1.309375 -0.1875   27.278125 -36.6875  ...  0.5625 -0.40625 -0.6875 -1.8125\n",
            "4 -1.390625  1.8125  129.278125  28.3125  ... -0.4375 -0.40625 -0.6875 -0.8125\n",
            "\n",
            "[5 rows x 11 columns]\n"
          ]
        }
      ]
    }
  ]
}