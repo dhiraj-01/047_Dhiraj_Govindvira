{
  "nbformat": 4,
  "nbformat_minor": 0,
  "metadata": {
    "colab": {
      "name": "Lab_01_NLTK_Matplotlib.ipynb",
      "provenance": []
    },
    "kernelspec": {
      "name": "python3",
      "display_name": "Python 3"
    },
    "language_info": {
      "name": "python"
    }
  },
  "cells": [
    {
      "cell_type": "code",
      "metadata": {
        "id": "ClUDLeld0mmX"
      },
      "source": [
        "import nltk\n",
        "import matplotlib.pyplot as plt\n",
        "import pandas as pd"
      ],
      "execution_count": 1,
      "outputs": []
    },
    {
      "cell_type": "code",
      "metadata": {
        "colab": {
          "base_uri": "https://localhost:8080/"
        },
        "id": "qC2wSG_k3AxJ",
        "outputId": "90bfb4f9-c5e6-42e4-8f50-1928410ab2de"
      },
      "source": [
        "my_text = \"hello world!!\"\n",
        "\n",
        "import re\n",
        "import string\n",
        "from nltk.corpus import stopwords\n",
        "from nltk.stem import PorterStemmer\n",
        "from nltk.tokenize import TweetTokenizer\n",
        "\n",
        "remove_link = re.sub(r'https?:\\/\\/.*[\\r\\n]*', '', my_text)\n",
        "remove_link = re.sub(r'#', '', remove_link)\n",
        "print(remove_link)"
      ],
      "execution_count": 2,
      "outputs": [
        {
          "output_type": "stream",
          "name": "stdout",
          "text": [
            "hello world!!\n"
          ]
        }
      ]
    },
    {
      "cell_type": "code",
      "metadata": {
        "colab": {
          "base_uri": "https://localhost:8080/"
        },
        "id": "z8GIT7jn3-7i",
        "outputId": "6c6d520d-cf5f-4dff-e922-04bf456ff5c9"
      },
      "source": [
        "\n",
        "from nltk.tokenize import sent_tokenize\n",
        "text=\"Daniel James leaves United for £25m. Only Cristiano Ronaldo, Romelu Lukaku and Angel di Maria have left the club for higher fees #mufc\"\n",
        "# download punkt\n",
        "nltk.download(\"punkt\")\n",
        "tokenized_text=sent_tokenize(text)\n",
        "print(tokenized_text)"
      ],
      "execution_count": 3,
      "outputs": [
        {
          "output_type": "stream",
          "name": "stdout",
          "text": [
            "[nltk_data] Downloading package punkt to /root/nltk_data...\n",
            "[nltk_data]   Package punkt is already up-to-date!\n",
            "['Daniel James leaves United for £25m.', 'Only Cristiano Ronaldo, Romelu Lukaku and Angel di Maria have left the club for higher fees #mufc']\n"
          ]
        }
      ]
    },
    {
      "cell_type": "code",
      "metadata": {
        "colab": {
          "base_uri": "https://localhost:8080/"
        },
        "id": "0CcgGxwp4ZyN",
        "outputId": "37927a81-a8a6-4246-c67f-275fe23e08e5"
      },
      "source": [
        "from nltk.tokenize import word_tokenize\n",
        "tokenized_word=word_tokenize(text)\n",
        "print(tokenized_word)"
      ],
      "execution_count": 4,
      "outputs": [
        {
          "output_type": "stream",
          "name": "stdout",
          "text": [
            "['Daniel', 'James', 'leaves', 'United', 'for', '£25m', '.', 'Only', 'Cristiano', 'Ronaldo', ',', 'Romelu', 'Lukaku', 'and', 'Angel', 'di', 'Maria', 'have', 'left', 'the', 'club', 'for', 'higher', 'fees', '#', 'mufc']\n"
          ]
        }
      ]
    },
    {
      "cell_type": "code",
      "metadata": {
        "colab": {
          "base_uri": "https://localhost:8080/",
          "height": 314
        },
        "id": "qtRYoviI49I-",
        "outputId": "8cbb4332-58e8-4ad4-e340-7bf6ef20e5ba"
      },
      "source": [
        "# frequency distribution\n",
        "from nltk.probability import FreqDist\n",
        "fdist = FreqDist(tokenized_word)\n",
        "fdist.most_common(4)\n",
        "# Frequency Distribution Plot\n",
        "import matplotlib.pyplot as plt\n",
        "fdist.plot(30, cumulative = False, color = \"green\")\n",
        "plt.show()"
      ],
      "execution_count": 5,
      "outputs": [
        {
          "output_type": "display_data",
          "data": {
            "image/png": "[encoded data removed]",
            "text/plain": [
              "<Figure size 432x288 with 1 Axes>"
            ]
          },
          "metadata": {
            "needs_background": "light"
          }
        }
      ]
    },
    {
      "cell_type": "code",
      "metadata": {
        "colab": {
          "base_uri": "https://localhost:8080/"
        },
        "id": "-OMF15QE5HvM",
        "outputId": "6655732b-e004-41a7-8642-12380de18cc3"
      },
      "source": [
        "# stop words\n",
        "from nltk.corpus import stopwords\n",
        "# download stopwords\n",
        "nltk.download(\"stopwords\")\n",
        "stop_words = set(stopwords.words(\"english\"))\n",
        "print(stop_words)"
      ],
      "execution_count": 6,
      "outputs": [
        {
          "output_type": "stream",
          "name": "stdout",
          "text": [
            "[nltk_data] Downloading package stopwords to /root/nltk_data...\n",
            "[nltk_data]   Package stopwords is already up-to-date!\n",
            "{'can', 're', 'she', \"you've\", \"wasn't\", 'off', 'those', 'further', 'against', 'will', 'to', 'down', 's', 'it', 'do', \"it's\", 'from', 'here', 'how', \"doesn't\", 'than', 'ourselves', 'does', 'both', 'll', 'them', 'up', 'any', 'between', 'so', 'this', \"mustn't\", 'y', 'are', 'no', 'about', 'which', 'having', \"you're\", 'more', 'all', 'why', 'for', 'other', \"weren't\", 'and', 'you', 'mightn', 'my', 'as', 'above', 'only', 'each', 'hadn', 'doing', 'his', 'again', 'where', 'on', 'just', 'by', 'itself', 'wasn', \"mightn't\", 'a', 'has', 'should', 'don', 'its', 've', 'the', 'didn', 'we', \"aren't\", 'once', 'd', \"couldn't\", 'won', 'they', 'i', \"won't\", 'or', 'an', 'before', 'same', 'ours', 'him', \"should've\", \"wouldn't\", 'shan', 'ma', 'after', 'now', 'that', 'out', 'have', \"shouldn't\", 'myself', 'of', 'most', 'their', 'during', 't', 'wouldn', 'doesn', 'had', 'isn', 'needn', 'ain', \"isn't\", 'these', 'very', \"didn't\", 'not', 'her', 'such', 'own', 'few', 'shouldn', 'yours', 'couldn', 'there', 'when', 'at', 'were', 'weren', \"hasn't\", 'because', 'with', 'over', 'was', 'haven', \"you'd\", 'your', 'been', 'nor', \"she's\", 'through', 'under', 'hers', \"shan't\", 'yourselves', 'our', 'am', 'whom', 'if', 'then', 'mustn', \"don't\", 'm', 'in', 'being', 'o', 'into', \"needn't\", 'some', 'herself', 'but', 'theirs', 'aren', 'while', \"hadn't\", 'too', 'until', 'did', 'themselves', 'what', \"that'll\", 'be', 'below', 'he', 'himself', 'me', 'is', 'hasn', \"you'll\", 'yourself', \"haven't\", 'who'}\n"
          ]
        }
      ]
    },
    {
      "cell_type": "code",
      "metadata": {
        "colab": {
          "base_uri": "https://localhost:8080/"
        },
        "id": "KY_aW4kn5WHT",
        "outputId": "4dfca060-ac0b-4d2d-dc50-201a4b98a5a3"
      },
      "source": [
        "\n",
        "filtered_sent=[]\n",
        "for w in tokenized_word:\n",
        "    if w not in stop_words:\n",
        "        filtered_sent.append(w)\n",
        "print(\"Tokenized Sentence:\",tokenized_word)\n",
        "print(\"Filterd Sentence:\",filtered_sent)"
      ],
      "execution_count": 7,
      "outputs": [
        {
          "output_type": "stream",
          "name": "stdout",
          "text": [
            "Tokenized Sentence: ['Daniel', 'James', 'leaves', 'United', 'for', '£25m', '.', 'Only', 'Cristiano', 'Ronaldo', ',', 'Romelu', 'Lukaku', 'and', 'Angel', 'di', 'Maria', 'have', 'left', 'the', 'club', 'for', 'higher', 'fees', '#', 'mufc']\n",
            "Filterd Sentence: ['Daniel', 'James', 'leaves', 'United', '£25m', '.', 'Only', 'Cristiano', 'Ronaldo', ',', 'Romelu', 'Lukaku', 'Angel', 'di', 'Maria', 'left', 'club', 'higher', 'fees', '#', 'mufc']\n"
          ]
        }
      ]
    },
    {
      "cell_type": "code",
      "metadata": {
        "colab": {
          "base_uri": "https://localhost:8080/"
        },
        "id": "ikNiApII5xhM",
        "outputId": "1f4ae8bc-47f9-42e3-9b86-7d84323820b9"
      },
      "source": [
        "# stemming\n",
        "from nltk.stem import PorterStemmer\n",
        "from nltk.tokenize import sent_tokenize, word_tokenize\n",
        "\n",
        "ps = PorterStemmer()\n",
        "\n",
        "stemmed_words=[]\n",
        "for w in filtered_sent:\n",
        "    stemmed_words.append(ps.stem(w))\n",
        "\n",
        "print(\"Filtered Sentence:\",filtered_sent)\n",
        "print(\"Stemmed Sentence:\",stemmed_words)"
      ],
      "execution_count": 8,
      "outputs": [
        {
          "output_type": "stream",
          "name": "stdout",
          "text": [
            "Filtered Sentence: ['Daniel', 'James', 'leaves', 'United', '£25m', '.', 'Only', 'Cristiano', 'Ronaldo', ',', 'Romelu', 'Lukaku', 'Angel', 'di', 'Maria', 'left', 'club', 'higher', 'fees', '#', 'mufc']\n",
            "Stemmed Sentence: ['daniel', 'jame', 'leav', 'unit', '£25m', '.', 'onli', 'cristiano', 'ronaldo', ',', 'romelu', 'lukaku', 'angel', 'di', 'maria', 'left', 'club', 'higher', 'fee', '#', 'mufc']\n"
          ]
        }
      ]
    },
    {
      "cell_type": "code",
      "metadata": {
        "colab": {
          "base_uri": "https://localhost:8080/"
        },
        "id": "Q-U8ithe6Gv8",
        "outputId": "edc992e2-4dd2-4325-e703-79269403210d"
      },
      "source": [
        "#Lexicon Normalization\n",
        "#performing stemming and Lemmatization\n",
        "\n",
        "from nltk.stem.wordnet import WordNetLemmatizer\n",
        "nltk.download('wordnet')\n",
        "lem = WordNetLemmatizer()\n",
        "\n",
        "from nltk.stem.porter import PorterStemmer\n",
        "stem = PorterStemmer()\n",
        "\n",
        "word = \"crying\"\n",
        "print(\"Lemmatized Word:\",lem.lemmatize(word, \"v\"))\n",
        "print(\"Stemmed Word:\",stem.stem(word))"
      ],
      "execution_count": 9,
      "outputs": [
        {
          "output_type": "stream",
          "name": "stdout",
          "text": [
            "[nltk_data] Downloading package wordnet to /root/nltk_data...\n",
            "[nltk_data]   Package wordnet is already up-to-date!\n",
            "Lemmatized Word: cry\n",
            "Stemmed Word: cri\n"
          ]
        }
      ]
    }
  ]
}