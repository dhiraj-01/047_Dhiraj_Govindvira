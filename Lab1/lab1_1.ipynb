{
  "nbformat": 4,
  "nbformat_minor": 0,
  "metadata": {
    "colab": {
      "name": "lab1_0.ipynb",
      "provenance": [],
      "collapsed_sections": []
    },
    "kernelspec": {
      "name": "python3",
      "display_name": "Python 3"
    },
    "language_info": {
      "name": "python"
    }
  },
  "cells": [
    {
      "cell_type": "code",
      "metadata": {
        "id": "CQ3uRHVd0UnF"
      },
      "source": [
        "import numpy as np\n",
        "import pandas as pd\n",
        "import matplotlib.pyplot as plt"
      ],
      "execution_count": 1,
      "outputs": []
    },
    {
      "cell_type": "code",
      "metadata": {
        "id": "KiN8WRfS2qI_"
      },
      "source": [
        "data = pd.read_csv('mtcars.csv')"
      ],
      "execution_count": 2,
      "outputs": []
    },
    {
      "cell_type": "code",
      "metadata": {
        "colab": {
          "base_uri": "https://localhost:8080/"
        },
        "id": "7MHNgmtZ5Xgs",
        "outputId": "47e8c59e-aaf7-4ad0-fa27-7cc41bca4240"
      },
      "source": [
        "df1 = pd.crosstab(index = data['cyl'], columns = \"count\", dropna = True)\n",
        "print(df1)"
      ],
      "execution_count": 3,
      "outputs": [
        {
          "output_type": "stream",
          "name": "stdout",
          "text": [
            "col_0  count\n",
            "cyl         \n",
            "4         11\n",
            "6          7\n",
            "8         14\n"
          ]
        }
      ]
    },
    {
      "cell_type": "code",
      "metadata": {
        "colab": {
          "base_uri": "https://localhost:8080/"
        },
        "id": "gKmrJzUo5ZJa",
        "outputId": "4fb3d692-7e61-4756-8a57-9949ffcaf722"
      },
      "source": [
        "print(data.info())"
      ],
      "execution_count": 4,
      "outputs": [
        {
          "output_type": "stream",
          "name": "stdout",
          "text": [
            "<class 'pandas.core.frame.DataFrame'>\n",
            "RangeIndex: 32 entries, 0 to 31\n",
            "Data columns (total 12 columns):\n",
            " #   Column  Non-Null Count  Dtype  \n",
            "---  ------  --------------  -----  \n",
            " 0   model   32 non-null     object \n",
            " 1   mpg     32 non-null     float64\n",
            " 2   cyl     32 non-null     int64  \n",
            " 3   disp    32 non-null     float64\n",
            " 4   hp      32 non-null     int64  \n",
            " 5   drat    32 non-null     float64\n",
            " 6   wt      32 non-null     float64\n",
            " 7   qsec    32 non-null     float64\n",
            " 8   vs      32 non-null     int64  \n",
            " 9   am      32 non-null     int64  \n",
            " 10  gear    32 non-null     int64  \n",
            " 11  carb    32 non-null     int64  \n",
            "dtypes: float64(5), int64(6), object(1)\n",
            "memory usage: 3.1+ KB\n",
            "None\n"
          ]
        }
      ]
    },
    {
      "cell_type": "code",
      "metadata": {
        "colab": {
          "base_uri": "https://localhost:8080/"
        },
        "id": "1wU8AgzF5ZRP",
        "outputId": "feabc05b-4425-4301-e69d-961311f5118b"
      },
      "source": [
        "# Total null values in each column\n",
        "print(\"Total Null Data:\", data.isnull().sum())"
      ],
      "execution_count": 5,
      "outputs": [
        {
          "output_type": "stream",
          "name": "stdout",
          "text": [
            "Total Null Data: model    0\n",
            "mpg      0\n",
            "cyl      0\n",
            "disp     0\n",
            "hp       0\n",
            "drat     0\n",
            "wt       0\n",
            "qsec     0\n",
            "vs       0\n",
            "am       0\n",
            "gear     0\n",
            "carb     0\n",
            "dtype: int64\n"
          ]
        }
      ]
    },
    {
      "cell_type": "code",
      "metadata": {
        "colab": {
          "base_uri": "https://localhost:8080/",
          "height": 597
        },
        "id": "tyc1bXJs40lv",
        "outputId": "5b8fc62b-5ee0-4470-bfe7-a5fe9d02222d"
      },
      "source": [
        "# Finding the Histogram\n",
        "plt.hist(data['mpg'], bins = 5)\n",
        "plt.show()\n",
        "\n",
        "# scatter plot of ‘mpg’ (Miles per gallon) vs ‘wt’ (Weight of car)\n",
        "plt.scatter(data['mpg'], data['wt'])\n",
        "plt.show()\n",
        "\n",
        "# In the dataframe, under the variable gear count total records in each value\n",
        "df = pd.DataFrame(data, columns = ['gear'])\n",
        "print(\"Count How many values:\\n\", df['gear'].value_counts())"
      ],
      "execution_count": 6,
      "outputs": [
        {
          "output_type": "display_data",
          "data": {
            "image/png": "[encoded data removed]",
            "text/plain": [
              "<Figure size 432x288 with 1 Axes>"
            ]
          },
          "metadata": {
            "needs_background": "light"
          }
        },
        {
          "output_type": "display_data",
          "data": {
            "image/png": "[encoded data removed]",
            "text/plain": [
              "<Figure size 432x288 with 1 Axes>"
            ]
          },
          "metadata": {
            "needs_background": "light"
          }
        },
        {
          "output_type": "stream",
          "name": "stdout",
          "text": [
            "Count How many values:\n",
            " 3    15\n",
            "4    12\n",
            "5     5\n",
            "Name: gear, dtype: int64\n"
          ]
        }
      ]
    },
    {
      "cell_type": "code",
      "metadata": {
        "colab": {
          "base_uri": "https://localhost:8080/",
          "height": 303
        },
        "id": "HUMW_Szx5Pjs",
        "outputId": "6395d968-6679-4852-8020-a6348b53c4c4"
      },
      "source": [
        "import matplotlib.pyplot as plt\n",
        "\n",
        "# Declare a figure with a custom size\n",
        "fig = plt.figure(figsize = (5, 5))\n",
        "\n",
        "# labels for the classes\n",
        "labels = 'ML-BSB-Lec', 'ML-HAP-Lec', 'ML-HAP-Lab'\n",
        "\n",
        "# Sizes for each slide\n",
        "sizes = [40, 35, 25]\n",
        "\n",
        "# Declare pie chart, where the slices will be ordered and plotted counter-clockwise:\n",
        "plt.pie(sizes, labels = labels, autopct = '%.2f%%', shadow = True, startangle = 90)\n",
        "\n",
        "# Equal aspect ratio ensures that pie is drawn as a circle.\n",
        "plt.axis('equal')\n",
        "\n",
        "# Display the chart\n",
        "plt.show()"
      ],
      "execution_count": 7,
      "outputs": [
        {
          "output_type": "display_data",
          "data": {
            "image/png": "[encoded data removed]",
            "text/plain": [
              "<Figure size 360x360 with 1 Axes>"
            ]
          },
          "metadata": {}
        }
      ]
    }
  ]
}