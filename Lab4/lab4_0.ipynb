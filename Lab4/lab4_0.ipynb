{
  "nbformat": 4,
  "nbformat_minor": 0,
  "metadata": {
    "colab": {
      "name": "new_lab4_2.ipynb",
      "provenance": [],
      "collapsed_sections": []
    },
    "kernelspec": {
      "name": "python3",
      "display_name": "Python 3"
    },
    "language_info": {
      "name": "python"
    }
  },
  "cells": [
    {
      "cell_type": "code",
      "metadata": {
        "id": "bF7leOXDfxyu",
        "colab": {
          "base_uri": "https://localhost:8080/"
        },
        "outputId": "2e936558-92f7-4df6-80b3-f5043c84af8c"
      },
      "source": [
        "#Import scikit-learn dataset library\n",
        "from sklearn import datasets\n",
        "from sklearn.tree import DecisionTreeClassifier\n",
        "import pandas as pd\n",
        "import numpy as np\n",
        "\n",
        "#Load dataset\n",
        "digits = datasets.load_digits()\n",
        "print(digits)"
      ],
      "execution_count": 1,
      "outputs": [
        {
          "output_type": "stream",
          "name": "stdout",
          "text": [
            "{'data': array([[ 0.,  0.,  5., ...,  0.,  0.,  0.],\n",
            "       [ 0.,  0.,  0., ..., 10.,  0.,  0.],\n",
            "       [ 0.,  0.,  0., ..., 16.,  9.,  0.],\n",
            "       ...,\n",
            "       [ 0.,  0.,  1., ...,  6.,  0.,  0.],\n",
            "       [ 0.,  0.,  2., ..., 12.,  0.,  0.],\n",
            "       [ 0.,  0., 10., ..., 12.,  1.,  0.]]), 'target': array([0, 1, 2, ..., 8, 9, 8]), 'target_names': array([0, 1, 2, 3, 4, 5, 6, 7, 8, 9]), 'images': array([[[ 0.,  0.,  5., ...,  1.,  0.,  0.],\n",
            "        [ 0.,  0., 13., ..., 15.,  5.,  0.],\n",
            "        [ 0.,  3., 15., ..., 11.,  8.,  0.],\n",
            "        ...,\n",
            "        [ 0.,  4., 11., ..., 12.,  7.,  0.],\n",
            "        [ 0.,  2., 14., ..., 12.,  0.,  0.],\n",
            "        [ 0.,  0.,  6., ...,  0.,  0.,  0.]],\n",
            "\n",
            "       [[ 0.,  0.,  0., ...,  5.,  0.,  0.],\n",
            "        [ 0.,  0.,  0., ...,  9.,  0.,  0.],\n",
            "        [ 0.,  0.,  3., ...,  6.,  0.,  0.],\n",
            "        ...,\n",
            "        [ 0.,  0.,  1., ...,  6.,  0.,  0.],\n",
            "        [ 0.,  0.,  1., ...,  6.,  0.,  0.],\n",
            "        [ 0.,  0.,  0., ..., 10.,  0.,  0.]],\n",
            "\n",
            "       [[ 0.,  0.,  0., ..., 12.,  0.,  0.],\n",
            "        [ 0.,  0.,  3., ..., 14.,  0.,  0.],\n",
            "        [ 0.,  0.,  8., ..., 16.,  0.,  0.],\n",
            "        ...,\n",
            "        [ 0.,  9., 16., ...,  0.,  0.,  0.],\n",
            "        [ 0.,  3., 13., ..., 11.,  5.,  0.],\n",
            "        [ 0.,  0.,  0., ..., 16.,  9.,  0.]],\n",
            "\n",
            "       ...,\n",
            "\n",
            "       [[ 0.,  0.,  1., ...,  1.,  0.,  0.],\n",
            "        [ 0.,  0., 13., ...,  2.,  1.,  0.],\n",
            "        [ 0.,  0., 16., ..., 16.,  5.,  0.],\n",
            "        ...,\n",
            "        [ 0.,  0., 16., ..., 15.,  0.,  0.],\n",
            "        [ 0.,  0., 15., ..., 16.,  0.,  0.],\n",
            "        [ 0.,  0.,  2., ...,  6.,  0.,  0.]],\n",
            "\n",
            "       [[ 0.,  0.,  2., ...,  0.,  0.,  0.],\n",
            "        [ 0.,  0., 14., ..., 15.,  1.,  0.],\n",
            "        [ 0.,  4., 16., ..., 16.,  7.,  0.],\n",
            "        ...,\n",
            "        [ 0.,  0.,  0., ..., 16.,  2.,  0.],\n",
            "        [ 0.,  0.,  4., ..., 16.,  2.,  0.],\n",
            "        [ 0.,  0.,  5., ..., 12.,  0.,  0.]],\n",
            "\n",
            "       [[ 0.,  0., 10., ...,  1.,  0.,  0.],\n",
            "        [ 0.,  2., 16., ...,  1.,  0.,  0.],\n",
            "        [ 0.,  0., 15., ..., 15.,  0.,  0.],\n",
            "        ...,\n",
            "        [ 0.,  4., 16., ..., 16.,  6.,  0.],\n",
            "        [ 0.,  8., 16., ..., 16.,  8.,  0.],\n",
            "        [ 0.,  1.,  8., ..., 12.,  1.,  0.]]]), 'DESCR': \".. _digits_dataset:\\n\\nOptical recognition of handwritten digits dataset\\n--------------------------------------------------\\n\\n**Data Set Characteristics:**\\n\\n    :Number of Instances: 5620\\n    :Number of Attributes: 64\\n    :Attribute Information: 8x8 image of integer pixels in the range 0..16.\\n    :Missing Attribute Values: None\\n    :Creator: E. Alpaydin (alpaydin '@' boun.edu.tr)\\n    :Date: July; 1998\\n\\nThis is a copy of the test set of the UCI ML hand-written digits datasets\\nhttps://archive.ics.uci.edu/ml/datasets/Optical+Recognition+of+Handwritten+Digits\\n\\nThe data set contains images of hand-written digits: 10 classes where\\neach class refers to a digit.\\n\\nPreprocessing programs made available by NIST were used to extract\\nnormalized bitmaps of handwritten digits from a preprinted form. From a\\ntotal of 43 people, 30 contributed to the training set and different 13\\nto the test set. 32x32 bitmaps are divided into nonoverlapping blocks of\\n4x4 and the number of on pixels are counted in each block. This generates\\nan input matrix of 8x8 where each element is an integer in the range\\n0..16. This reduces dimensionality and gives invariance to small\\ndistortions.\\n\\nFor info on NIST preprocessing routines, see M. D. Garris, J. L. Blue, G.\\nT. Candela, D. L. Dimmick, J. Geist, P. J. Grother, S. A. Janet, and C.\\nL. Wilson, NIST Form-Based Handprint Recognition System, NISTIR 5469,\\n1994.\\n\\n.. topic:: References\\n\\n  - C. Kaynak (1995) Methods of Combining Multiple Classifiers and Their\\n    Applications to Handwritten Digit Recognition, MSc Thesis, Institute of\\n    Graduate Studies in Science and Engineering, Bogazici University.\\n  - E. Alpaydin, C. Kaynak (1998) Cascading Classifiers, Kybernetika.\\n  - Ken Tang and Ponnuthurai N. Suganthan and Xi Yao and A. Kai Qin.\\n    Linear dimensionalityreduction using relevance weighted LDA. School of\\n    Electrical and Electronic Engineering Nanyang Technological University.\\n    2005.\\n  - Claudio Gentile. A New Approximate Maximal Margin Classification\\n    Algorithm. NIPS. 2000.\"}\n"
          ]
        }
      ]
    },
    {
      "cell_type": "code",
      "metadata": {
        "colab": {
          "base_uri": "https://localhost:8080/"
        },
        "id": "vHguPzmwKAn6",
        "outputId": "ed878dae-e4e4-42c0-e532-aa376ab193d1"
      },
      "source": [
        "print(digits.data.shape)\n",
        "print(digits.target.shape)"
      ],
      "execution_count": 2,
      "outputs": [
        {
          "output_type": "stream",
          "name": "stdout",
          "text": [
            "(1797, 64)\n",
            "(1797,)\n"
          ]
        }
      ]
    },
    {
      "cell_type": "code",
      "metadata": {
        "id": "LmhD9jQBK_oP"
      },
      "source": [
        "#import the necessary module\n",
        "from sklearn.model_selection import train_test_split\n",
        "\n",
        "X=digits.data\n",
        "Y=digits.target\n",
        "#split data set into train and test sets\n",
        "X_train, X_test, y_train, y_test = train_test_split(X, Y, test_size = 0.35, random_state = 47)"
      ],
      "execution_count": 3,
      "outputs": []
    },
    {
      "cell_type": "code",
      "metadata": {
        "colab": {
          "base_uri": "https://localhost:8080/"
        },
        "id": "YUFvE4WhLURL",
        "outputId": "78452775-d434-415d-f7c2-a8db8b49307d"
      },
      "source": [
        "#Create a Decision Tree Classifier (using Gini)\n",
        "clf_gini = DecisionTreeClassifier(criterion = \"gini\", random_state = 47, max_depth=7, min_samples_leaf=10)\n",
        "\n",
        "clf_gini.fit(X_train, y_train)"
      ],
      "execution_count": 4,
      "outputs": [
        {
          "output_type": "execute_result",
          "data": {
            "text/plain": [
              "DecisionTreeClassifier(ccp_alpha=0.0, class_weight=None, criterion='gini',\n",
              "                       max_depth=7, max_features=None, max_leaf_nodes=None,\n",
              "                       min_impurity_decrease=0.0, min_impurity_split=None,\n",
              "                       min_samples_leaf=10, min_samples_split=2,\n",
              "                       min_weight_fraction_leaf=0.0, presort='deprecated',\n",
              "                       random_state=47, splitter='best')"
            ]
          },
          "metadata": {},
          "execution_count": 4
        }
      ]
    },
    {
      "cell_type": "code",
      "metadata": {
        "colab": {
          "base_uri": "https://localhost:8080/"
        },
        "id": "tZ_o0o1qLW0B",
        "outputId": "9a68b25c-81d8-4fbf-d5c4-b11108b3e0fe"
      },
      "source": [
        "# Predict the classes of test data\n",
        "y_pred = clf_gini.predict(X_test)\n",
        "print(\"Predicted values:\")\n",
        "print(y_pred)"
      ],
      "execution_count": 5,
      "outputs": [
        {
          "output_type": "stream",
          "name": "stdout",
          "text": [
            "Predicted values:\n",
            "[9 6 4 6 5 6 9 6 9 0 4 0 0 4 8 8 4 6 4 2 9 8 0 5 1 3 2 9 7 7 5 5 6 3 8 8 3\n",
            " 5 1 4 5 6 8 4 9 4 8 9 4 5 8 6 5 5 0 7 6 0 1 9 4 5 8 2 9 7 4 4 2 3 6 3 7 6\n",
            " 6 3 2 1 2 4 6 6 2 4 0 3 6 3 4 4 4 8 3 6 9 5 7 0 0 4 2 6 1 8 7 9 1 2 9 1 6\n",
            " 1 1 2 6 9 5 9 0 6 2 8 2 3 5 7 9 0 6 0 9 8 3 5 2 6 0 6 4 2 4 8 3 9 8 1 2 6\n",
            " 7 6 9 9 1 9 3 8 2 5 8 6 4 7 6 8 6 4 3 3 5 9 0 9 9 7 4 9 4 9 6 3 2 6 6 0 8\n",
            " 4 5 1 7 2 9 6 4 4 7 0 0 0 7 4 3 9 7 5 1 2 7 4 0 6 6 6 4 6 5 6 4 6 3 6 9 5\n",
            " 9 8 3 3 5 6 4 6 6 2 6 6 6 0 8 3 0 6 0 8 6 7 1 2 6 4 4 7 5 4 0 4 8 8 8 0 6\n",
            " 8 0 5 5 6 6 2 7 7 9 4 7 0 5 9 7 3 2 5 5 0 6 9 8 4 8 9 7 7 8 6 9 5 3 0 3 8\n",
            " 5 2 9 1 8 7 6 3 1 1 2 0 2 8 9 2 8 4 5 8 9 9 6 5 7 8 6 4 1 1 9 8 0 5 2 4 8\n",
            " 1 9 5 7 8 7 2 9 7 6 8 8 3 3 6 7 4 7 8 3 7 1 6 2 2 4 9 6 6 6 1 0 8 7 6 7 8\n",
            " 5 5 1 9 2 6 2 8 2 3 6 9 0 2 6 7 9 0 3 5 6 0 2 8 9 5 7 3 5 8 3 3 4 2 3 7 1\n",
            " 2 8 2 6 0 2 3 1 9 3 5 0 9 6 7 9 8 1 7 6 6 9 0 9 7 6 5 4 3 1 9 1 8 8 8 6 5\n",
            " 6 3 3 4 9 6 7 0 3 2 1 7 6 0 8 2 5 4 3 1 5 0 6 1 1 6 7 5 9 3 7 0 0 0 4 5 0\n",
            " 3 0 8 8 0 5 7 9 2 6 5 3 8 6 4 0 5 3 4 6 3 0 5 0 4 6 2 5 0 9 1 8 6 8 2 9 6\n",
            " 8 3 3 5 5 8 2 2 0 7 6 9 2 7 4 2 1 6 0 2 9 6 2 8 2 8 1 8 5 0 5 9 5 4 4 6 9\n",
            " 6 3 1 8 1 9 9 2 5 3 0 1 7 2 6 4 7 0 2 0 7 1 2 8 8 6 4 5 5 5 3 4 5 4 5 6 9\n",
            " 9 6 7 4 2 7 7 4 9 5 6 4 8 3 0 8 6 9 7 2 7 1 7 2 7 3 9 7 0 9 9 9 9 6 5 4 9]\n"
          ]
        }
      ]
    },
    {
      "cell_type": "code",
      "metadata": {
        "colab": {
          "base_uri": "https://localhost:8080/"
        },
        "id": "LlfrNqQlLaKe",
        "outputId": "bff64078-665c-4dbc-9be5-bd97362a23ad"
      },
      "source": [
        "# Model Accuracy\n",
        "from sklearn import metrics\n",
        "print(\"Confusion Matrix: \", metrics.confusion_matrix(y_test, y_pred))\n",
        "print (\"Accuracy : \", metrics.accuracy_score(y_test,y_pred) * 100)\n",
        "print(\"Report : \", metrics.classification_report(y_test, y_pred))\n"
      ],
      "execution_count": 6,
      "outputs": [
        {
          "output_type": "stream",
          "name": "stdout",
          "text": [
            "Confusion Matrix:  [[57  0  0  0  3  0  0  0  0  2]\n",
            " [ 0 34  1  2  2  1 13  0  1  5]\n",
            " [ 1  0 44  2  1  1  7  2  4  1]\n",
            " [ 0  0  2 44  0  3  0  1  4  2]\n",
            " [ 0  2  0  0 52  5  1  3  1  0]\n",
            " [ 0  1  3  0  3 49 14  2  3  3]\n",
            " [ 0  0  0  0  1  1 60  1  2  0]\n",
            " [ 0  1  3  1  0  2  0 45  2  0]\n",
            " [ 0  2  6  3  0  0  0  2 48  4]\n",
            " [ 0  0  0  1  0  1  1  2  2 56]]\n",
            "Accuracy :  77.74244833068363\n",
            "Report :                precision    recall  f1-score   support\n",
            "\n",
            "           0       0.98      0.92      0.95        62\n",
            "           1       0.85      0.58      0.69        59\n",
            "           2       0.75      0.70      0.72        63\n",
            "           3       0.83      0.79      0.81        56\n",
            "           4       0.84      0.81      0.83        64\n",
            "           5       0.78      0.63      0.70        78\n",
            "           6       0.62      0.92      0.75        65\n",
            "           7       0.78      0.83      0.80        54\n",
            "           8       0.72      0.74      0.73        65\n",
            "           9       0.77      0.89      0.82        63\n",
            "\n",
            "    accuracy                           0.78       629\n",
            "   macro avg       0.79      0.78      0.78       629\n",
            "weighted avg       0.79      0.78      0.78       629\n",
            "\n"
          ]
        }
      ]
    }
  ]
}