{
  "nbformat": 4,
  "nbformat_minor": 0,
  "metadata": {
    "kernelspec": {
      "display_name": "Python 3",
      "language": "python",
      "name": "python3"
    },
    "language_info": {
      "codemirror_mode": {
        "name": "ipython",
        "version": 3
      },
      "file_extension": ".py",
      "mimetype": "text/x-python",
      "name": "python",
      "nbconvert_exporter": "python",
      "pygments_lexer": "ipython3",
      "version": "3.8.5"
    },
    "colab": {
      "name": "lab5_2.ipynb",
      "provenance": []
    }
  },
  "cells": [
    {
      "cell_type": "code",
      "metadata": {
        "id": "9vbV8IjjQUdh"
      },
      "source": [
        "import numpy as np\n",
        "import pandas as pd \n",
        "import matplotlib.pyplot as plt\n",
        "%matplotlib inline\n",
        "import tensorflow as tf"
      ],
      "execution_count": 1,
      "outputs": []
    },
    {
      "cell_type": "code",
      "metadata": {
        "colab": {
          "base_uri": "https://localhost:8080/"
        },
        "id": "ST7vZBuEQUdn",
        "outputId": "1c028427-c5a5-4331-fe08-df2c0f902849"
      },
      "source": [
        "# Use seaborn for pairplot\n",
        "import seaborn as sns\n",
        "\n",
        "from tensorflow import keras\n",
        "from tensorflow.keras import layers\n",
        "from tensorflow.keras.layers.experimental import preprocessing\n",
        "\n",
        "print(tf.__version__)"
      ],
      "execution_count": 2,
      "outputs": [
        {
          "output_type": "stream",
          "name": "stdout",
          "text": [
            "2.6.0\n"
          ]
        }
      ]
    },
    {
      "cell_type": "code",
      "metadata": {
        "id": "SapRDdjnQUdq"
      },
      "source": [
        "# Input (temp, rainfall, humidity)\n",
        "inputs = np.array([[73, 67, 43], [91, 88, 64], [87, 134, 58], [102, 43, 37], [69, 96, 70], [73, 67, 43], [91, 88, 64], [87, 134, 58], [102, 43, 37], [69, 96, 70], [73, 67, 43], [91, 88, 64], [87, 134, 58], [102, 43, 37], [69, 96, 70]], dtype='float32')\n",
        "# Targets (apples)\n",
        "targets = np.array([[56], [81], [119], [22], [103], \n",
        "                    [56], [81], [119], [22], [103], \n",
        "                    [56], [81], [119], [22], [103]], dtype='float32')"
      ],
      "execution_count": 3,
      "outputs": []
    },
    {
      "cell_type": "code",
      "metadata": {
        "id": "m3b_A3HzQUdr"
      },
      "source": [
        "df_inputs = pd.DataFrame(inputs, columns = ['temp','rainfall','humidity'])\n",
        "features = df_inputs.copy()\n",
        "train_features = features[:10]\n",
        "test_features = features[10:] \n",
        "\n",
        "df_targets = pd.DataFrame(targets, columns = ['apples'])\n",
        "label = df_targets.copy()\n",
        "train_label =  label[:10]\n",
        "test_label = label[10:]"
      ],
      "execution_count": 4,
      "outputs": []
    },
    {
      "cell_type": "code",
      "metadata": {
        "colab": {
          "base_uri": "https://localhost:8080/",
          "height": 142
        },
        "id": "yKjG5WPlQUds",
        "outputId": "d342b97f-47ca-40cc-efc4-ee9b51722eb5"
      },
      "source": [
        "train_features.describe().transpose()[['mean', 'std']]"
      ],
      "execution_count": 5,
      "outputs": [
        {
          "output_type": "execute_result",
          "data": {
            "text/html": [
              "<div>\n",
              "<style scoped>\n",
              "    .dataframe tbody tr th:only-of-type {\n",
              "        vertical-align: middle;\n",
              "    }\n",
              "\n",
              "    .dataframe tbody tr th {\n",
              "        vertical-align: top;\n",
              "    }\n",
              "\n",
              "    .dataframe thead th {\n",
              "        text-align: right;\n",
              "    }\n",
              "</style>\n",
              "<table border=\"1\" class=\"dataframe\">\n",
              "  <thead>\n",
              "    <tr style=\"text-align: right;\">\n",
              "      <th></th>\n",
              "      <th>mean</th>\n",
              "      <th>std</th>\n",
              "    </tr>\n",
              "  </thead>\n",
              "  <tbody>\n",
              "    <tr>\n",
              "      <th>temp</th>\n",
              "      <td>84.400002</td>\n",
              "      <td>12.712199</td>\n",
              "    </tr>\n",
              "    <tr>\n",
              "      <th>rainfall</th>\n",
              "      <td>85.599998</td>\n",
              "      <td>32.031929</td>\n",
              "    </tr>\n",
              "    <tr>\n",
              "      <th>humidity</th>\n",
              "      <td>54.400002</td>\n",
              "      <td>13.175735</td>\n",
              "    </tr>\n",
              "  </tbody>\n",
              "</table>\n",
              "</div>"
            ],
            "text/plain": [
              "               mean        std\n",
              "temp      84.400002  12.712199\n",
              "rainfall  85.599998  32.031929\n",
              "humidity  54.400002  13.175735"
            ]
          },
          "metadata": {},
          "execution_count": 5
        }
      ]
    },
    {
      "cell_type": "code",
      "metadata": {
        "colab": {
          "base_uri": "https://localhost:8080/",
          "height": 567
        },
        "id": "ybiYxVifQUdt",
        "outputId": "87145954-a7bb-4c64-a9a3-d9e41fe6749f"
      },
      "source": [
        "sns.pairplot(train_features[['temp', 'rainfall', 'humidity']], diag_kind='kde')"
      ],
      "execution_count": 6,
      "outputs": [
        {
          "output_type": "execute_result",
          "data": {
            "text/plain": [
              "<seaborn.axisgrid.PairGrid at 0x7f2ee2dec5d0>"
            ]
          },
          "metadata": {},
          "execution_count": 6
        },
        {
          "output_type": "display_data",
          "data": {
            "image/png": "[encoded data removed]",
            "text/plain": [
              "<Figure size 540x540 with 12 Axes>"
            ]
          },
          "metadata": {
            "needs_background": "light"
          }
        }
      ]
    },
    {
      "cell_type": "code",
      "metadata": {
        "id": "dj4PuqMzQUdu"
      },
      "source": [
        "from sklearn.preprocessing import Normalizer\n",
        "import sklearn.preprocessing"
      ],
      "execution_count": 7,
      "outputs": []
    },
    {
      "cell_type": "code",
      "metadata": {
        "id": "-B9Fy6XJQUdw"
      },
      "source": [
        "temp = np.array(train_features['temp'])\n",
        "\n",
        "temp_normalizer = preprocessing.Normalization(input_shape=[1, ], axis = None)\n",
        "temp_normalizer.adapt(temp)"
      ],
      "execution_count": 8,
      "outputs": []
    },
    {
      "cell_type": "code",
      "metadata": {
        "id": "Qpaa5zr9QUdx"
      },
      "source": [
        "temp_linear_model = tf.keras.Sequential([\n",
        "    temp_normalizer,\n",
        "    layers.Dense(units=1)           \n",
        "])"
      ],
      "execution_count": 9,
      "outputs": []
    },
    {
      "cell_type": "code",
      "metadata": {
        "colab": {
          "base_uri": "https://localhost:8080/"
        },
        "id": "SH2CO-PcQUdz",
        "outputId": "130c55ad-36df-424f-c5a4-ffdfe720b747"
      },
      "source": [
        "temp_linear_model.predict(temp[1:6])"
      ],
      "execution_count": 10,
      "outputs": [
        {
          "output_type": "execute_result",
          "data": {
            "text/plain": [
              "array([[ 0.91046184],\n",
              "       [ 0.35866666],\n",
              "       [ 2.4278986 ],\n",
              "       [-2.1244118 ],\n",
              "       [-1.5726166 ]], dtype=float32)"
            ]
          },
          "metadata": {},
          "execution_count": 10
        }
      ]
    },
    {
      "cell_type": "code",
      "metadata": {
        "id": "2ipyKY7_QUdz"
      },
      "source": [
        "temp_linear_model.compile(\n",
        "    optimizer = tf.optimizers.Adam(learning_rate = 0.1),\n",
        "    loss='mean_absolute_error')"
      ],
      "execution_count": 11,
      "outputs": []
    },
    {
      "cell_type": "code",
      "metadata": {
        "colab": {
          "base_uri": "https://localhost:8080/"
        },
        "id": "9pnWb_IBQUd0",
        "outputId": "9ef33410-8c79-4275-fcb2-3e925a8faf46"
      },
      "source": [
        "%%time\n",
        "history = temp_linear_model.fit(\n",
        "    train_features['temp'], train_label,\n",
        "    epochs = 1000,\n",
        "    # suppress logging\n",
        "    verbose = 0,\n",
        "    # Calculate validation results on 10% of the training data\n",
        "    validation_split = 0.3)"
      ],
      "execution_count": 12,
      "outputs": [
        {
          "output_type": "stream",
          "name": "stdout",
          "text": [
            "CPU times: user 20.2 s, sys: 949 ms, total: 21.2 s\n",
            "Wall time: 20.9 s\n"
          ]
        }
      ]
    },
    {
      "cell_type": "code",
      "metadata": {
        "colab": {
          "base_uri": "https://localhost:8080/",
          "height": 357
        },
        "id": "RLKtXXUyQUd0",
        "outputId": "f0c2d6e2-0d29-44bb-9fc8-55e43a5f4adc"
      },
      "source": [
        "hist = pd.DataFrame(history.history)\n",
        "hist['epoch'] = history.epoch\n",
        "hist.tail(10)"
      ],
      "execution_count": 13,
      "outputs": [
        {
          "output_type": "execute_result",
          "data": {
            "text/html": [
              "<div>\n",
              "<style scoped>\n",
              "    .dataframe tbody tr th:only-of-type {\n",
              "        vertical-align: middle;\n",
              "    }\n",
              "\n",
              "    .dataframe tbody tr th {\n",
              "        vertical-align: top;\n",
              "    }\n",
              "\n",
              "    .dataframe thead th {\n",
              "        text-align: right;\n",
              "    }\n",
              "</style>\n",
              "<table border=\"1\" class=\"dataframe\">\n",
              "  <thead>\n",
              "    <tr style=\"text-align: right;\">\n",
              "      <th></th>\n",
              "      <th>loss</th>\n",
              "      <th>val_loss</th>\n",
              "      <th>epoch</th>\n",
              "    </tr>\n",
              "  </thead>\n",
              "  <tbody>\n",
              "    <tr>\n",
              "      <th>990</th>\n",
              "      <td>27.699886</td>\n",
              "      <td>47.959698</td>\n",
              "      <td>990</td>\n",
              "    </tr>\n",
              "    <tr>\n",
              "      <th>991</th>\n",
              "      <td>27.693800</td>\n",
              "      <td>47.974789</td>\n",
              "      <td>991</td>\n",
              "    </tr>\n",
              "    <tr>\n",
              "      <th>992</th>\n",
              "      <td>27.687672</td>\n",
              "      <td>47.991302</td>\n",
              "      <td>992</td>\n",
              "    </tr>\n",
              "    <tr>\n",
              "      <th>993</th>\n",
              "      <td>27.681494</td>\n",
              "      <td>48.009106</td>\n",
              "      <td>993</td>\n",
              "    </tr>\n",
              "    <tr>\n",
              "      <th>994</th>\n",
              "      <td>27.675278</td>\n",
              "      <td>48.028065</td>\n",
              "      <td>994</td>\n",
              "    </tr>\n",
              "    <tr>\n",
              "      <th>995</th>\n",
              "      <td>27.669020</td>\n",
              "      <td>48.048080</td>\n",
              "      <td>995</td>\n",
              "    </tr>\n",
              "    <tr>\n",
              "      <th>996</th>\n",
              "      <td>27.662733</td>\n",
              "      <td>48.069035</td>\n",
              "      <td>996</td>\n",
              "    </tr>\n",
              "    <tr>\n",
              "      <th>997</th>\n",
              "      <td>27.656412</td>\n",
              "      <td>48.090839</td>\n",
              "      <td>997</td>\n",
              "    </tr>\n",
              "    <tr>\n",
              "      <th>998</th>\n",
              "      <td>27.650059</td>\n",
              "      <td>48.113419</td>\n",
              "      <td>998</td>\n",
              "    </tr>\n",
              "    <tr>\n",
              "      <th>999</th>\n",
              "      <td>27.643681</td>\n",
              "      <td>48.136692</td>\n",
              "      <td>999</td>\n",
              "    </tr>\n",
              "  </tbody>\n",
              "</table>\n",
              "</div>"
            ],
            "text/plain": [
              "          loss   val_loss  epoch\n",
              "990  27.699886  47.959698    990\n",
              "991  27.693800  47.974789    991\n",
              "992  27.687672  47.991302    992\n",
              "993  27.681494  48.009106    993\n",
              "994  27.675278  48.028065    994\n",
              "995  27.669020  48.048080    995\n",
              "996  27.662733  48.069035    996\n",
              "997  27.656412  48.090839    997\n",
              "998  27.650059  48.113419    998\n",
              "999  27.643681  48.136692    999"
            ]
          },
          "metadata": {},
          "execution_count": 13
        }
      ]
    },
    {
      "cell_type": "code",
      "metadata": {
        "id": "OUdkoBTAQUd1"
      },
      "source": [
        "test_results = {}\n",
        "test_results['temp_linear_model'] = temp_linear_model.evaluate(\n",
        "    test_features['temp'],\n",
        "    test_label, verbose=0)"
      ],
      "execution_count": 14,
      "outputs": []
    },
    {
      "cell_type": "code",
      "metadata": {
        "colab": {
          "base_uri": "https://localhost:8080/"
        },
        "id": "HRDNxdWbQUd1",
        "outputId": "eff7a205-1a86-478b-ccb1-6d966c20cc4f"
      },
      "source": [
        "test_results['temp_linear_model']"
      ],
      "execution_count": 15,
      "outputs": [
        {
          "output_type": "execute_result",
          "data": {
            "text/plain": [
              "33.78710174560547"
            ]
          },
          "metadata": {},
          "execution_count": 15
        }
      ]
    },
    {
      "cell_type": "code",
      "metadata": {
        "colab": {
          "base_uri": "https://localhost:8080/"
        },
        "id": "Vxnf4zVSQUd2",
        "outputId": "41f58e69-d84f-4a3e-efec-5476a9c76bcf"
      },
      "source": [
        "y = temp_linear_model.predict(test_features['temp'])\n",
        "y"
      ],
      "execution_count": 16,
      "outputs": [
        {
          "output_type": "execute_result",
          "data": {
            "text/plain": [
              "array([[56.090843],\n",
              "       [56.565395],\n",
              "       [56.459938],\n",
              "       [56.855396],\n",
              "       [55.985386]], dtype=float32)"
            ]
          },
          "metadata": {},
          "execution_count": 16
        }
      ]
    },
    {
      "cell_type": "code",
      "metadata": {
        "colab": {
          "base_uri": "https://localhost:8080/"
        },
        "id": "5uXOy8TuQUd2",
        "outputId": "a41ce7d2-6139-4399-cc7b-decce2f22319"
      },
      "source": [
        "norm_test_features = np.linalg.norm(test_features['temp'])\n",
        "norm_train_features = np.linalg.norm(train_features['temp'])\n",
        "# norm_test_label = np.linalg.norm(test_label['temp'])\n",
        "norm_train_label = np.linalg.norm(train_label['apples'])\n",
        "\n",
        "\n",
        "normal_array_test_features = test_features['temp']/norm_test_features\n",
        "normal_array_train_features = train_features['temp']/norm_train_features\n",
        "normal_array_train_label = train_label['apples']/norm_train_label\n",
        "\n",
        "print(normal_array_train_features)\n",
        "print(normal_array_test_features)\n",
        "print(normal_array_train_label)"
      ],
      "execution_count": 17,
      "outputs": [
        {
          "output_type": "stream",
          "name": "stdout",
          "text": [
            "0    0.270764\n",
            "1    0.337528\n",
            "2    0.322692\n",
            "3    0.378328\n",
            "4    0.255928\n",
            "5    0.270764\n",
            "6    0.337528\n",
            "7    0.322692\n",
            "8    0.378328\n",
            "9    0.255928\n",
            "Name: temp, dtype: float32\n",
            "10    0.382919\n",
            "11    0.477337\n",
            "12    0.456355\n",
            "13    0.535037\n",
            "14    0.361937\n",
            "Name: temp, dtype: float32\n",
            "0    0.211808\n",
            "1    0.306366\n",
            "2    0.450093\n",
            "3    0.083210\n",
            "4    0.389576\n",
            "5    0.211808\n",
            "6    0.306366\n",
            "7    0.450093\n",
            "8    0.083210\n",
            "9    0.389576\n",
            "Name: apples, dtype: float32\n"
          ]
        }
      ]
    },
    {
      "cell_type": "code",
      "metadata": {
        "colab": {
          "base_uri": "https://localhost:8080/",
          "height": 279
        },
        "id": "WwdWJPTwQUd3",
        "outputId": "f0b9fe8d-07e8-4e2c-fe90-8197b4417609"
      },
      "source": [
        "\n",
        "def plot_Apples(x, y):\n",
        "  plt.scatter(train_features['temp'], train_label['apples'], label = 'Data')\n",
        "  plt.plot(x, y, color='g', label = 'Predictions')\n",
        "  plt.xlabel('Temp')\n",
        "  plt.ylabel('Apples')\n",
        "  plt.legend()\n",
        "  \n",
        "plot_Apples(test_features['temp'], y)"
      ],
      "execution_count": 18,
      "outputs": [
        {
          "output_type": "display_data",
          "data": {
            "image/png": "[encoded data removed]",
            "text/plain": [
              "<Figure size 432x288 with 1 Axes>"
            ]
          },
          "metadata": {
            "needs_background": "light"
          }
        }
      ]
    },
    {
      "cell_type": "code",
      "metadata": {
        "id": "SBqDYufIQUd3"
      },
      "source": [
        "normalizer = preprocessing.Normalization(axis = -1)"
      ],
      "execution_count": 19,
      "outputs": []
    },
    {
      "cell_type": "code",
      "metadata": {
        "id": "EwF4jjZsQUd4"
      },
      "source": [
        "normalizer.adapt(np.array(train_features))"
      ],
      "execution_count": 20,
      "outputs": []
    },
    {
      "cell_type": "code",
      "metadata": {
        "id": "QnQR1FY9QUd4"
      },
      "source": [
        "linear_model = tf.keras.Sequential([\n",
        "    normalizer,\n",
        "    layers.Dense(units = 1)\n",
        "])"
      ],
      "execution_count": 21,
      "outputs": []
    },
    {
      "cell_type": "code",
      "metadata": {
        "colab": {
          "base_uri": "https://localhost:8080/"
        },
        "id": "H0lM4CxAQUd5",
        "outputId": "4e89e4df-eeca-4bfc-e042-634b4753a910"
      },
      "source": [
        "linear_model.predict(train_features[:9])"
      ],
      "execution_count": 22,
      "outputs": [
        {
          "output_type": "execute_result",
          "data": {
            "text/plain": [
              "array([[ 0.01154242],\n",
              "       [-0.04362109],\n",
              "       [ 0.7592412 ],\n",
              "       [-2.372898  ],\n",
              "       [ 1.6457357 ],\n",
              "       [ 0.01154242],\n",
              "       [-0.04362109],\n",
              "       [ 0.7592412 ],\n",
              "       [-2.372898  ]], dtype=float32)"
            ]
          },
          "metadata": {},
          "execution_count": 22
        }
      ]
    },
    {
      "cell_type": "code",
      "metadata": {
        "id": "wbk_5TVVQUd5"
      },
      "source": [
        "linear_model.compile(\n",
        "    optimizer=tf.optimizers.Adam(learning_rate = 0.1),\n",
        "    loss='mean_absolute_error')\n"
      ],
      "execution_count": 23,
      "outputs": []
    },
    {
      "cell_type": "code",
      "metadata": {
        "colab": {
          "base_uri": "https://localhost:8080/"
        },
        "id": "YQlo-vMSQUd6",
        "outputId": "bef5cede-17a1-467e-e46b-17053ba6f691"
      },
      "source": [
        "%%time\n",
        "history = linear_model.fit(\n",
        "    train_features, train_label, \n",
        "    epochs = 1000,\n",
        "    # suppress logging\n",
        "    verbose=0,\n",
        "    # Calculate validation results on 20% of the training data\n",
        "    validation_split = 0.2)"
      ],
      "execution_count": 24,
      "outputs": [
        {
          "output_type": "stream",
          "name": "stdout",
          "text": [
            "CPU times: user 20 s, sys: 926 ms, total: 20.9 s\n",
            "Wall time: 19.9 s\n"
          ]
        }
      ]
    },
    {
      "cell_type": "code",
      "metadata": {
        "colab": {
          "base_uri": "https://localhost:8080/"
        },
        "id": "hA8zCqqUQUd6",
        "outputId": "c7df5f15-1340-4c44-b734-56a01b2a1f21"
      },
      "source": [
        "test_results['linear_model'] = linear_model.evaluate(test_features, test_label, verbose = 0)\n",
        "test_results['linear_model']"
      ],
      "execution_count": 25,
      "outputs": [
        {
          "output_type": "execute_result",
          "data": {
            "text/plain": [
              "0.8696250915527344"
            ]
          },
          "metadata": {},
          "execution_count": 25
        }
      ]
    }
  ]
}